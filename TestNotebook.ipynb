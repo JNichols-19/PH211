{
 "cells": [
  {
   "cell_type": "markdown",
   "metadata": {},
   "source": [
    "# Test Notebook\n",
    "## Author: Julia Nichols\n",
    "## Version: 2\n",
    "## Date: 6/12/21 \n",
    "***"
   ]
  },
  {
   "cell_type": "markdown",
   "metadata": {},
   "source": [
    "### Helpful Links About Jupyter Notebooks\n",
    "- Markdown layout/text editing\n",
    "    * [Markdown for Jupyter notebooks cheatsheet](https://www.ibm.com/docs/en/watson-studio-local/1.2.3?topic=notebooks-markdown-jupyter-cheatsheet)\n",
    "    * [Jupyter Notebook - Markdown Cells](https://www.tutorialspoint.com/jupyter/jupyter_notebook_markdown_cells.htm)\n",
    "    * [How to format your text with Markdown](https://academy.datawrapper.de/article/191-how-to-format-your-text-with-markdown)\n",
    "    * [Markdown cell in Jupyter notebook](https://www.geeksforgeeks.org/markdown-cell-in-jupyter-notebook/)\n",
    "    * [The Ultimate Markdown Guide (for Jupyter Notebook)](https://medium.com/analytics-vidhya/the-ultimate-markdown-guide-for-jupyter-notebook-d5e5abf728fd)\n",
    "- Text/shape IDs\n",
    "    * [UTF-8 Geometric Shapes](https://www.w3schools.com/charsets/ref_utf_geometric.asp)\n",
    "- LaTeX\n",
    "    * [LaTeX math and equations](https://latex-tutorial.com/tutorials/amsmath/)\n"
   ]
  },
  {
   "cell_type": "markdown",
   "metadata": {},
   "source": [
    "### General Notes of Things I have done/learned to remember\n",
    "* When you want to put something on another line, put 2 spaces after the last thing on the previous line and then hit enter.\n",
    "* To have a horizontal line (like under the title headers at the top) use '***'  \n",
    "* For Shapes, use `&#` and the reference ID\n",
    "    * Example: `&#9632;` will show &#9632;\n",
    "* If you are trying to demonstrate an example that includes code pieces that need to be strings (such as above) use <p>``</p> or <p>text</p> (Fix this cause it isn't working how I thought)\n",
    "\n",
    "## LaTeX\n",
    "* \\equiv is $ \\equiv$"
   ]
  },
  {
   "cell_type": "code",
   "execution_count": null,
   "metadata": {},
   "outputs": [],
   "source": []
  }
 ],
 "metadata": {
  "kernelspec": {
   "display_name": "Python 3",
   "language": "python",
   "name": "python3"
  },
  "language_info": {
   "codemirror_mode": {
    "name": "ipython",
    "version": 3
   },
   "file_extension": ".py",
   "mimetype": "text/x-python",
   "name": "python",
   "nbconvert_exporter": "python",
   "pygments_lexer": "ipython3",
   "version": "3.6.8"
  }
 },
 "nbformat": 4,
 "nbformat_minor": 4
}
