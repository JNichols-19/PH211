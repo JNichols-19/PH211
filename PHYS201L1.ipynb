{
 "cells": [
  {
   "cell_type": "markdown",
   "metadata": {},
   "source": [
    "# Expt 1: Density Measurements and Uncertainties\n",
    "### Objectives\n",
    "- To learn the basics of good lab practice\n",
    "- To learn how to estimate uncertainties\n",
    "- To learn how to propagate uncertainties\n",
    "- To learn how to compare measurement methods  \n",
    "\n",
    "### Equipment\n",
    "- One set of five (5) unknown cylinders of the same composition\n",
    "- One beaker\n",
    "- One or two 50 mL graduated cylinders\n",
    "- One vernier or digital caliper\n",
    "- One micrometer\n",
    "- One digital scale or beam balance\n",
    "- One “mass hanging” assembly  \n",
    "\n",
    "### Safety\n",
    "- Never drop metal cylinders into glass containers!\n",
    "- Please read the section below on proper use of a graduated cylinder."
   ]
  },
  {
   "cell_type": "markdown",
   "metadata": {},
   "source": [
    "# Introduction\n",
    "One very important and useful property of materials is the **density**, ρ, of that material. Density is defined to be the\n",
    "amount of mass contained within a certain volume:  \n",
    "(1) $$ p \\equiv \\frac{m}{v}$$\n",
    "\n",
    "This property can be used to determine the total mass of an object if we know its volume, or it can be used to\n",
    "determine if an object will float in a liquid (if the liquid has a higher density than the object). The density of an\n",
    "object is also a useful property to help identify it.\n",
    "\n",
    "In this lab, your job will be to determine the density of a set of rods of a given composition. Measuring the mass\n",
    "will be the easy part. **You will use three methods to determine the volume:** Direct measurement with scales,\n",
    "measurement of the amount of water it displaces, and measurement of its equivalent weight of water. You will\n",
    "tabulate your results and compare the first method with the second and third methods.\n",
    "\n",
    "It will be to your benefit to be slow and careful while performing this lab."
   ]
  },
  {
   "cell_type": "markdown",
   "metadata": {},
   "source": [
    "# Theory\n",
    "The calculation of density in equation (1) will require a determination of the mass and volume of each rod. The\n",
    "final density will be an average of the computations for each method of measuring the volume of the cylinder. We\n",
    "will need the uncertainty in the computed density. This comes from equation (R2) in your lab manual:  \n",
    "(2) $$\\left(\\frac{\\delta p}{p}\\right)^2 = \\left(\\frac{\\delta m}{m}\\right)^2 + \\left(\\frac{\\delta V}{V}\\right)^2$$\n"
   ]
  },
  {
   "cell_type": "markdown",
   "metadata": {},
   "source": [
    "### Direct Measurement\n",
    "A measurement of the height and radius of the cylinder allows you to compute the volume using the formula:  \n",
    "(3) $$ V = \\pi r^2 h$$\n",
    "\n",
    "The propagated uncertainties come from the formulas (R2) and (R3) in the laboratory hand out. If our uncertainty in\n",
    "measuring the radius and height are dr and dh, we first we compute the uncertainty in $r^2$ using (R3):  \n",
    "(4) $$\\frac{\\delta \\left(r^2 \\right)}{r^2} = 2 \\frac{\\delta r}{r}$$\n",
    "\n",
    "and then we compute the uncertainty in volume using (R2):  \n",
    "(5) $$ \\left(\\frac{\\delta V}{V}\\right)^2 = \\left(\\frac{\\delta \\left(r^2 \\right)}{r^2} \\right)^2 + \\left(\\frac{\\delta h}{h}\\right)^2$$\n",
    "\n",
    "or, substituting:  \n",
    "(6) $$ \\left(\\frac{\\delta V}{V}\\right)^2 = \\left(2 \\frac{\\delta r}{r} \\right)^2 + \\left(\\frac{\\delta h}{h}\\right)^2$$\n",
    "\n",
    "Notice that we can take the left side directly and use it to compute the uncertainty in density once we have the uncertainty in measuring the mass. Instead of re-computing it every time you need it, it might be useful to write this value down for each rod."
   ]
  },
  {
   "cell_type": "code",
   "execution_count": null,
   "metadata": {},
   "outputs": [],
   "source": []
  }
 ],
 "metadata": {
  "kernelspec": {
   "display_name": "Python 3",
   "language": "python",
   "name": "python3"
  },
  "language_info": {
   "codemirror_mode": {
    "name": "ipython",
    "version": 3
   },
   "file_extension": ".py",
   "mimetype": "text/x-python",
   "name": "python",
   "nbconvert_exporter": "python",
   "pygments_lexer": "ipython3",
   "version": "3.6.8"
  }
 },
 "nbformat": 4,
 "nbformat_minor": 4
}
