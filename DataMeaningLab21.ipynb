{
 "cells": [
  {
   "cell_type": "markdown",
   "metadata": {},
   "source": [
    "# Data and Meaning Lab\n",
    "## PH 211 COCC\n",
    "### Bruce Emerson 1/12/2021\n",
    "\n",
    "This notebook is meant to provide tools and discussion to support data analysis and presentation as you generate your lab reports. \n",
    "\n",
    "[Data/Meaning Lab](http://coccweb.cocc.edu/bemerson/PhysicsGlobal/Courses/PH211/PH211Materials/PH211Labs/PH211Labdatamean21.html) and [Data/Meaning Lab Discussion](http://coccweb.cocc.edu/bemerson/PhysicsGlobal/Courses/PH211/PH211Materials/PH211Labs/PH211LabDdatamean.html)\n",
    "\n",
    "In this lab we are gathering some data, entering the data into the notebook, extracting useful statistical measures, plotting histograms of the data, and finally seeking to demonstrate our understanding of the meaning of all that went before.\n",
    "\n",
    "For the formal lab report you will want to create your own description of what you understand the process and intended outcome of the lab is. Please don't just copy the purpose statement from the lab page."
   ]
  },
  {
   "cell_type": "markdown",
   "metadata": {},
   "source": [
    "## Dependencies\n",
    "\n",
    "As we talked about previously there are a number of what are called libraries that allow us to add tools to our notebooks. These libraries only need to be accessed once in a given notebook. The general approach is to load any needed tools at the begining of the notebook. These libraries themselve use other libraries which are called dependencies. This is how we load the various libraries of python tools that are needed for the particular work we are undertaking. \n",
    "\n",
    "To access commands from these libraries we have to type the entire name of the library which is often aggravating and time consuming. More typically we give the imported library an \"alias' which is a shorthand for the long library name. The language to bring the library onboard and to give it an alias is ```import [library] as [alias]```.\n",
    "  \n",
    "```numpy``` is a numerical tools library - often imported as np. ```numpy``` also contains the statistical tools that we will use in this lab. There are other libraries dedicated to statistical tools but 'numpy' has everything we need.  \n",
    "```matplotlib```is a 'MATLAB like' library. \n",
    "```matplotlib.pyplot``` is often imported as ```plt``` to make it easier to use. ```matplotlib``` has the plotting tools that we need for this lab.  \n",
    "\n",
    "The following code cell will need to be run first before any other code cells. This sometimes takes a while because a lot of code is being loaded during this process."
   ]
  },
  {
   "cell_type": "code",
   "execution_count": 16,
   "metadata": {},
   "outputs": [],
   "source": [
    "import numpy as np\n",
    "import matplotlib.mlab as mlab\n",
    "import matplotlib.pyplot as plt\n"
   ]
  },
  {
   "cell_type": "markdown",
   "metadata": {},
   "source": [
    "***\n",
    "## Lab Deliverable:\n",
    "\n",
    "For your lab notebook you will include the usual 'header' information we talked about last week in the first cell of the lab (a markdown cell for sure). In the next cell please describe how you determined the HR for you. Include a description of your data gathering process and the math that supports your results. I expect to see a few lines of math illustrating that calculation. \n",
    "\n",
    "After that include the code cell above that has the dependencies that we need for this week's lab. Remember that you need to execute (shift-return or shift-enter) the code cell before executing any other code cells.\n",
    "\n",
    "***"
   ]
  },
  {
   "cell_type": "markdown",
   "metadata": {},
   "source": [
    "## Lists (Vectors)\n",
    "\n",
    "We usually talk about our data as a list of data points. In spreadsheets we enter data in a set of successive cells in a column or a row. There is a creature in python called a list which is a way of accomplishing a similar task.  \n",
    "\n",
    "[python documentation: list](https://docs.python.org/3.7/tutorial/datastructures.html) This link to the python documentation for lists will bury you in features and uses of lists. It is easy and common to overwhelmed by the deluge of information which is why these notebooks are created. I include this reference link so you could explore more deeply if you have time to do so but what you actually need to understand for this lab is contained within this notebook.\n",
    "\n",
    "Our lists need names so we can work with them later on. As we have disucssed it is best practice to use names that have relevant meaning. Note the square brackets and the comma as a separator between data points. The data here is made up so you will surely replace it with your data!\n",
    "\n",
    "#### Explore:\n",
    "\n",
    "Things to explore include putting an extra decimal point somewhere, shortening up one of the lists. Change names of things to see what is allowed and what isn't."
   ]
  },
  {
   "cell_type": "markdown",
   "metadata": {},
   "source": [
    "***\n",
    "## Lab Deliverable:\n",
    "\n",
    "Once we collect the data on our HR (height ratios) from the discussion folder on Bb you will enter the data for the two groups here. Depending on how we divide the class you may well want to change the labels on the two data sets to something more appropriate. For now this means typing the data points in by hand and making sure that they match the information you were given. You should expect that both data sets will have **different** numbers of data points.\n",
    "\n",
    "In the markdown cell describing the data include a description of the distinction between the two sets of data that we are exploring. This will have been discussed in class and will have some sort of rationale for why we made this choice.\n",
    "\n",
    "***"
   ]
  },
  {
   "cell_type": "code",
   "execution_count": 17,
   "metadata": {},
   "outputs": [
    {
     "name": "stdout",
     "output_type": "stream",
     "text": [
      "[0.21, 0.22, 0.23, 0.4, 0.5, 0.6, 0.77, 0.8, 0.9, 0.1, 0.31, 0.2, 0.33, 0.34, 0.35, 0.36, 0.37, 0.18, 0.49, 0.5, 0.1]\n",
      "Second data set: [0.41, 0.52, 0.43, 0.54, 0.65, 0.6, 0.67, 0.58, 0.9, 0.5, 0.1, 0.72, 0.3, 0.84, 0.5, 0.6, 0.4, 0.5, 0.69, 0.5, 0.1]\n"
     ]
    }
   ],
   "source": [
    "data1 = [.21,.22,.23,.4,.5,.6,.77,.8,.9,.10,.31,.2,.33,.34,.35,.36,.37,.18,.49,.50,.100]\n",
    "data2 = [.41,.52,.43,.54,.65,.6,.67,.58,.9,.50,.1,.72,.3,.84,.5,.6,.4,.5,.69,.50,.100]\n",
    "# 2 ways to print out and check your data\n",
    "print(data1)\n",
    "print(\"Second data set:\",data2)"
   ]
  },
  {
   "cell_type": "markdown",
   "metadata": {},
   "source": [
    "## Check data points\n",
    "\n",
    "There are various ways you might choose to check your data points. You can look through the list above or you can ask python to count how many data points for you as shown below. Check that the number of data points matches your expectation. In the long run we will use this technique to be sure we have the same number of x data points as y data points when we make plots."
   ]
  },
  {
   "cell_type": "code",
   "execution_count": 18,
   "metadata": {},
   "outputs": [
    {
     "name": "stdout",
     "output_type": "stream",
     "text": [
      "number of data points (1): 21\n",
      "number of data points (2): 21\n"
     ]
    }
   ],
   "source": [
    "data1length = len(data1)\n",
    "data2length = len(data2)\n",
    "# length counts how many 'data points' in the list\n",
    "print(\"number of data points (1):\", data1length)\n",
    "print(\"number of data points (2):\", data2length)"
   ]
  },
  {
   "cell_type": "markdown",
   "metadata": {},
   "source": [
    "## Statistics\n",
    "\n",
    "[numpy statistics](https://docs.scipy.org/doc/numpy/reference/routines.statistics.html)\n",
    "\n",
    "The ```numpy``` library is a project of [SciPy.org](https://www.scipy.org/) that has created almost all of the tools that we will use. \n",
    "\n",
    "We need mean, mediam, median, min, max, and standard deviation. Here's how you get them....\n",
    "\n",
    "```np.mean(data1)```\n",
    "\n",
    "```np.``` tells the notebook that you want to use a tool from the numpy library which we imported as np in the dependencies cell.\n",
    "\n",
    "```np.mean()``` tells the notebook that we want to use the tool called ```mean()```. Within the parentheses go any information that the tool wants in order to perform it's task. These bits of information are called 'arguments' that being 'passed' to the tool. Sometimes there are many arguments and sometimes only one. The arguments have to have the correct form or numpy and python will complain. The first time I show you a command I will try to remember to provide a link to the documention for that command. This documentation is often very difficult to read and understand for novices but I include it for completeness. You do **NOT** need to read the documentation to successfullly complete the lab.\n",
    "\n",
    "[np.mean documentation](https://numpy.org/doc/stable/reference/generated/numpy.mean.html)  \n",
    "[np.median documentation](https://numpy.org/doc/stable/reference/generated/numpy.median.html)  \n",
    "[np.std documentation](https://numpy.org/doc/stable/reference/generated/numpy.std.html)  \n",
    "[np.min documentation](https://numpy.org/doc/stable/reference/generated/numpy.min.html)  \n",
    "[np.max documentation](https://numpy.org/doc/stable/reference/generated/numpy.max.html)  "
   ]
  },
  {
   "cell_type": "code",
   "execution_count": 19,
   "metadata": {},
   "outputs": [
    {
     "name": "stdout",
     "output_type": "stream",
     "text": [
      "Data set 1 Mean 0.3933333333333333\n",
      "Data set 1 Median 0.35\n",
      "Data set 1 Std Dev 0.218377858055456\n",
      "Data set 1 min 0.1\n",
      "Data set 1 max 0.9\n"
     ]
    }
   ],
   "source": [
    "data1mean = np.mean(data1)\n",
    "data1median = np.median(data1)\n",
    "data1stddev = np.std(data1)\n",
    "data1min = np.min(data1)\n",
    "data1max = np.max(data1)\n",
    "print(\"Data set 1 Mean\",data1mean)\n",
    "print(\"Data set 1 Median\",data1median)\n",
    "print(\"Data set 1 Std Dev\",data1stddev)\n",
    "print(\"Data set 1 min\",data1min)\n",
    "print(\"Data set 1 max\",data1max)"
   ]
  },
  {
   "cell_type": "code",
   "execution_count": 20,
   "metadata": {},
   "outputs": [
    {
     "name": "stdout",
     "output_type": "stream",
     "text": [
      "Data set 2 Mean 0.5261904761904761\n",
      "Data set 2 Median 0.52\n",
      "Data set 2 Std Dev 0.19621359087135223\n",
      "Data set 2 min 0.1\n",
      "Data set 2 max 0.9\n"
     ]
    }
   ],
   "source": [
    "data2mean = np.mean(data2)\n",
    "data2median = np.median(data2)\n",
    "data2stddev = np.std(data2)\n",
    "data2min = np.min(data2)\n",
    "data2max = np.max(data2)\n",
    "print(\"Data set 2 Mean\",data2mean)\n",
    "print(\"Data set 2 Median\",data2median)\n",
    "print(\"Data set 2 Std Dev\",data2stddev)\n",
    "print(\"Data set 2 min\",data2min)\n",
    "print(\"Data set 2 max\",data2max)"
   ]
  },
  {
   "cell_type": "markdown",
   "metadata": {},
   "source": [
    "## Basic Histogram\n",
    "\n",
    "From a structural point of view the plt.hist command creates the histogram which is displayed using the plt.show() command. THis is how many coding languages work. The code creates objects, in this case the histogram, and then there is a command that displays the object that is created. I don't want you to get down in the weeds about how that works this week. We will slowly move in that direction. As the plt.hist command generates the plot it also returns three bits of information - the heights of each bin (array), the edges of each bin (array), and the patch objects that are the bars that are plotted. For now we can ignore these information items that are returned from the ```plt.hist``` command. \n",
    "\n",
    "[matplotlib.pyplot.hist](https://matplotlib.org/3.1.1/api/_as_gen/matplotlib.pyplot.hist.html)  \n"
   ]
  },
  {
   "cell_type": "markdown",
   "metadata": {},
   "source": [
    "## Histogram Styles\n",
    "\n",
    "In the ```plt.hist``` command there are a number of arguments that can be provided to control the features of the histogram that is produced. In the code I have broken each argument out onto an individual line to make them more clear. \n",
    "```\n",
    "height, bins, patches = plt.hist(data1,\n",
    "                                 num_bins,\n",
    "                                 fullrange,\n",
    "                                 histtype = \"barstacked\",\n",
    "                                 color=\"tab:blue\",\n",
    "                                 alpha= .7\n",
    "                                )\n",
    "```\n",
    "\n",
    "```data1``` is the name of the data list (vector) I want to generate the data from.  \n",
    "\n",
    "```num_bins``` is an integer that tells the command how many different divisions I want across the possible value of my histogram. You will explore different values for num_bins to understand the impact of this argument on the how the histogram looks.  \n",
    "\n",
    "```histtype = \"barstacked\"``` tells the command what style\n",
    "The other options for 'histtype' are \"barstacked\", \"step\", and \"stepfilled\". The \"stepfilled\" style solves some of the consideration discussed above.\n",
    "\n",
    "histtype is an argument that you can pass to 'plt.hist' that defines the style of histogram. The default type is \"bar\" which gives me what you would usually expect if there is a single data list. If I pass multiple lists as in this example then the bars of the histogram for each data set are plotted side by side. **NB:** This creates a small issue that there are gaps between the sets of bars that imply the absence of data which is not true.\n",
    "\n",
    "The other options for 'histtype' are \"barstacked\", \"step\", and \"stepfilled\". The \"stepfilled\" style solves some of the consideration discussed above.\n",
    "\n",
    "alpha is one of many 'patch' properties -- specifically the density of the color\n",
    "[patch properties](https://matplotlib.org/api/_as_gen/matplotlib.patches.Patch.html#matplotlib.patches.Patch.set_alpha)"
   ]
  },
  {
   "cell_type": "code",
   "execution_count": 30,
   "metadata": {},
   "outputs": [
    {
     "data": {
      "image/png": "[encoded data removed]",
      "text/plain": [
       "<Figure size 432x288 with 1 Axes>"
      ]
     },
     "metadata": {
      "needs_background": "light"
     },
     "output_type": "display_data"
    }
   ],
   "source": [
    "# choose how many bins you want to display\n",
    "# ...also set the histogram type in the arguments\n",
    "num_bins = 12\n",
    "fullrange = [0,1]\n",
    "height, bins, patches = plt.hist(data1,\n",
    "                                 num_bins,\n",
    "                                 fullrange,\n",
    "                                 histtype = \"barstacked\",\n",
    "                                 color=\"tab:blue\",\n",
    "                                 alpha= .7\n",
    "                                )\n",
    "plt.show()"
   ]
  },
  {
   "cell_type": "code",
   "execution_count": 33,
   "metadata": {},
   "outputs": [
    {
     "data": {
      "image/png": "[encoded data removed]",
      "text/plain": [
       "<Figure size 432x288 with 1 Axes>"
      ]
     },
     "metadata": {
      "needs_background": "light"
     },
     "output_type": "display_data"
    }
   ],
   "source": [
    "num_bins = 12\n",
    "fullrange = [0,1]\n",
    "height, bins, patches = plt.hist(data2,\n",
    "                                 num_bins,\n",
    "                                 fullrange,\n",
    "                                 histtype = \"step\",\n",
    "                                 color=\"red\",\n",
    "                                 alpha= .4\n",
    "                                )\n",
    "plt.show()"
   ]
  },
  {
   "cell_type": "code",
   "execution_count": 32,
   "metadata": {},
   "outputs": [
    {
     "data": {
      "image/png": "[encoded data removed]",
      "text/plain": [
       "<Figure size 432x288 with 1 Axes>"
      ]
     },
     "metadata": {
      "needs_background": "light"
     },
     "output_type": "display_data"
    }
   ],
   "source": [
    "num_bins = 12\n",
    "fullrange = [0,1]\n",
    "height, bins, patches = plt.hist([data1,data2],\n",
    "                                 num_bins,\n",
    "                                 fullrange,\n",
    "                                 histtype = \"barstacked\",\n",
    "                                 color=[\"tab:blue\",\"red\"],\n",
    "                                 alpha= .57\n",
    "                                )\n",
    "plt.show()"
   ]
  },
  {
   "cell_type": "markdown",
   "metadata": {},
   "source": [
    "## Analysis I\n",
    "\n",
    "The rest of the lab asks you for a range of analyses starting with a conceptual assessment of the meaning of the standard deviation. To assist with this I have generated a histogram of just the first data set. The mean of the distibution is 30 which should be the visual balance point and that looks good. Because the histogram is asymetric with a long tail on the right I expect the median to be to the high side of the mean which it is though not as much as I might anticipate. The standard deviation, usually indicated with the symbol $\\sigma$, is 23 which conceptually means I expect 2/3 of the data (14/21) points to fall between low = 30-23 = 7 and high = 30 + 23 = 53. There are actually only 4-5 data points outside of the $\\pm 1 \\sigma$ points which is because the outliers are so far out. Seems consistent."
   ]
  },
  {
   "cell_type": "code",
   "execution_count": 34,
   "metadata": {},
   "outputs": [
    {
     "data": {
      "image/png": "[encoded data removed]",
      "text/plain": [
       "<Figure size 432x288 with 1 Axes>"
      ]
     },
     "metadata": {
      "needs_background": "light"
     },
     "output_type": "display_data"
    }
   ],
   "source": [
    "num_bins = 20\n",
    "fullrange = [0,1]\n",
    "height, bins, patches = plt.hist(data1, num_bins, fullrange, histtype = \"bar\", color=\"blue\", alpha= .6,label='data1')\n",
    "plt.xlabel('height ratio')\n",
    "plt.ylabel('frequency')\n",
    "plt.title('Histogram of HR (Height Ratios)')\n",
    "plt.legend()\n",
    "plt.show()"
   ]
  },
  {
   "cell_type": "markdown",
   "metadata": {},
   "source": [
    "## Analysis II\n",
    "\n",
    "If I go back and look at my two data sets and their statistics I would be 'justified' in expecting the actual value of data set 1 to be between 7 m and 53 m while data set 2 is most likely between 49 m and 81 m. Because these two ranges overlap at the $\\pm 1 \\sigma$ points the data does **NOT** assure that they are measurements of different features (hallways). In general we expect two data sets to not overlap at the $\\pm 3 \\sigma$ points before we begin to suggest that they are different phenomena. "
   ]
  },
  {
   "cell_type": "markdown",
   "metadata": {},
   "source": [
    "## Reflection\n",
    "\n",
    "Well, I certainly learned a lot about creating histograms through creating this notebook. I have a few more features I might try to add but for now I'm going to call it good. I hope this is helpful."
   ]
  },
  {
   "cell_type": "markdown",
   "metadata": {},
   "source": [
    "### Extensions\n",
    "\n",
    "Extensions are ideas that I didn't have time to explore or develop fully for this lab. These are offered as opportunities for students with more programming experience than is typical for students in the class.\n",
    "\n",
    "#### Display the mean\n",
    "\n",
    "In general it can be helpful to visually show the mean of a distribution as some sort of vertical line or tick mark placed in the field of the histogram.\n",
    "\n",
    "#### Legend\n",
    "\n",
    "I didn't implement a legend in this first plotting exercise but it would be interesting to see what you might choose to display in the legend -- just a title? ...the mean, the standard deviation? \n",
    "\n",
    "#### Standard Deviation\n",
    "\n",
    "In past implementations of this lab using different software packages I have worked to create some visual representation of the $\\pm 1 \\sigma$ range around the mean. A horizontal bar or line above the histogram with a tick at the mean provides some visual indication of overlap when the two data sets that are displayed simultaneously. From a teaching perspective it would be desirable to have the slightly offset from each other to facilitate awareness of the possible overlap at the 1 $\\sigma$ level"
   ]
  },
  {
   "cell_type": "code",
   "execution_count": null,
   "metadata": {},
   "outputs": [],
   "source": []
  },
  {
   "cell_type": "code",
   "execution_count": null,
   "metadata": {},
   "outputs": [],
   "source": []
  }
 ],
 "metadata": {
  "kernelspec": {
   "display_name": "Python 3",
   "language": "python",
   "name": "python3"
  },
  "language_info": {
   "codemirror_mode": {
    "name": "ipython",
    "version": 3
   },
   "file_extension": ".py",
   "mimetype": "text/x-python",
   "name": "python",
   "nbconvert_exporter": "python",
   "pygments_lexer": "ipython3",
   "version": "3.8.5"
  }
 },
 "nbformat": 4,
 "nbformat_minor": 4
}
