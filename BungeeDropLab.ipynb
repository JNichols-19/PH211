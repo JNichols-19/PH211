{
 "cells": [
  {
   "cell_type": "markdown",
   "metadata": {},
   "source": [
    "# Bungee Drop Lab\n",
    "## PH 211 COCC\n",
    "### Bruce Emerson 3/2/2020\n",
    "\n",
    "This notebook is meant to provide tools and discussion to support data analysis and presentation as you generate your lab reports. \n",
    "\n",
    "[Bungee II Lab](http://coccweb.cocc.edu/bemerson/PhysicsGlobal/Courses/PH211/PH211Materials/PH211Labs/PH211LabbungeeII.html) and [Bungee II Lab Discussion](http://coccweb.cocc.edu/bemerson/PhysicsGlobal/Courses/PH211/PH211Materials/PH211Labs/PH211LabDbungeeII.html)\n",
    "\n",
    "In this lab we are examine a calibration curve, verifiy it's values, fit a curve to the data and integrate that function. From there we can use energy methods to determine the mass that can be dropped from the railing without damaging the floor.\n",
    "\n",
    "For the formal lab report you will want to create your own description of what you understand the process and intended outcome of the lab is. Please don't just copy the purpose statement from the lab page."
   ]
  },
  {
   "cell_type": "markdown",
   "metadata": {},
   "source": [
    "### The Setting\n",
    "\n",
    "In the 'IRL' version of this lab you are presented with a '2 m' calibrated bungee cord that is shared by the class. The class is shown the railing in the lobby of the Science Building to which a clamp will be afixed holding a rigid bar. The bungee cord will be attached to the bar, weights will be put in the bag at the end of the bungee (replicating a human being), and the bag will be dropped from a point level with the railing. Your task, as the student, is to determine how much mass can be placed in the bag such that the bag will stop just as it reaches the ground (meaning a couple of cm above the floor since we don't want to damage the bag or the floor). \n",
    "\n",
    "This replicates the adjustments that actual bungee jump operations accomplish by changing the length of a static rope (that doesn't stretch much) attached between the bungee cord and the frame of the jumping platform."
   ]
  },
  {
   "cell_type": "markdown",
   "metadata": {},
   "source": [
    "### How far does Bungee stretch?\n",
    "\n",
    "In the future when we return to the lab in real life the following numbers will be manipulated to compell students to replace them with their own measurements.\n",
    "\n",
    "Here is the underlying (currently real - 3/2021) data:\n",
    "\n",
    "1. The unstretched length of the bungee is 2.45 m between the knots (Lo)\n",
    "1. The length of the clips and the bag combined is .33 m (BC)\n",
    "1. The knotted parts of the bungee are 1 cm long each (Kn)\n",
    "1. The height of the railing is 6.02 m above the floor\n",
    "\n",
    "Can you figure out, on your own, bow much the bungee cord must be stretched when the bag just reaches the floor?\n",
    "\n",
    "The ultimate stretch $\\Delta x$ of the bungee when it gets to the floor is given by...\n",
    "\n",
    ".$$\\large \\Delta x = H - ( L_0 + BC + Kn) $$\n",
    "\n"
   ]
  },
  {
   "cell_type": "code",
   "execution_count": 18,
   "metadata": {},
   "outputs": [
    {
     "name": "stdout",
     "output_type": "stream",
     "text": [
      "The maximum stretch of the bungee will be 3.220 m \n"
     ]
    }
   ],
   "source": [
    "drop_height = 6.02 # H in m\n",
    "relaxed_length = 2.45 # L0 from above in m\n",
    "bag_clips = 0.33 # BC above in m\n",
    "knots = 0.02 #Kn above in m\n",
    "\n",
    "desired_stretch = drop_height - (relaxed_length + bag_clips + knots)\n",
    "\n",
    "print(\"The maximum stretch of the bungee will be %.3f m \" % (desired_stretch))"
   ]
  },
  {
   "cell_type": "markdown",
   "metadata": {},
   "source": [
    "### Energy Bar Graph:\n",
    "\n",
    "Now that we have a python notebook that we can use to generate an energy bar graph it seems reasonable to use it here. \n",
    "\n",
    "[Energy Bar Graph notebook](https://github.com/smithrockmaker/PH211/blob/master/EnergyBarGraph.ipynb)\n",
    "\n",
    "This notbook has active element (interactive widgets) that will not work unless you download the notebook and run it in your Jupyterlab window.  When you do so you might generate a energy bar chart that looks like this.\n",
    "\n",
    "<img src=\"images/bungeeBar\" width=\"600\" height=\"600\" />"
   ]
  },
  {
   "cell_type": "markdown",
   "metadata": {},
   "source": [
    "## Dependencies\n",
    "\n",
    "This is where we load in the various libraries of python tools that are needed for the particular work we are undertaking.  \n",
    "  \n",
    "```numpy``` is a numerical tools library - often imported as np. ```numpy``` also contains the statistical tools that we will use in this lab. There are other libraries dedicated to statistical tools but 'numpy' has everything we need.  \n",
    "```matplotlib```is a 'MATLAB like' library. \n",
    "```matplotlib.pyplot``` is often imported as ```plt``` to make it easier to use. ```matplotlib``` has the plotting tools that we need for this lab. \n",
    "\n",
    "The new library from ```numpy``` is needed for creating a polynomial fit to the data later on. There are multiple version of these modules for different purposes. This one feels best matched to our needs and experience.\n",
    "\n",
    "[numpy.polynomial.polynomial module](https://docs.scipy.org/doc/numpy/reference/routines.polynomials.polynomial.html)\n",
    "\n",
    "The following code cell will need to be run first before any other code cells."
   ]
  },
  {
   "cell_type": "code",
   "execution_count": 1,
   "metadata": {},
   "outputs": [],
   "source": [
    "import numpy as np\n",
    "import matplotlib as mplot\n",
    "import matplotlib.pyplot as plt\n",
    "from numpy.polynomial import polynomial as ply\n",
    "from scipy.integrate import quad"
   ]
  },
  {
   "cell_type": "markdown",
   "metadata": {},
   "source": [
    "## Data Entry (Lists/Vectors) \n",
    "\n",
    "I am providing a set of data points that represent the characterization curve for a 2 m bungee cord. In principle we should be able to use the normalized data from the Bungee Characterization Lab but typically our results are inconsistent enough that actual data is a better idea. I generated this data by stretching the bungee out on the floor and using a scale to measure the force. Because that's a little challenging with one person I'd like you to check that data. This is generally a good practice for all experimental tests."
   ]
  },
  {
   "cell_type": "code",
   "execution_count": 2,
   "metadata": {},
   "outputs": [
    {
     "name": "stdout",
     "output_type": "stream",
     "text": [
      "force data: [0.0, 4.9, 9.81, 14.72, 19.62, 24.53, 29.43, 34.34, 39.24, 44.15]\n",
      "stretch data: [0.0, 0.2, 0.47, 0.72, 1.11, 1.51, 2.1, 2.69, 3.22, 3.82]\n",
      "number of data points (x): 10\n",
      "number of data points (y): 10\n"
     ]
    }
   ],
   "source": [
    "forcedata = [0., 4.90, 9.81, 14.72, 19.62, 24.53, 29.43,34.34,39.24, 44.15]\n",
    "stretchdata = [0., 0.20, .47, .72, 1.11, 1.51, 2.10, 2.69, 3.22, 3.82]\n",
    "\n",
    "# useful constants\n",
    "\n",
    "gravity = 9.815 # in m/s/s\n",
    "drop_height = 6.02 # in m\n",
    "\n",
    "# 2 ways to print out and check your data\n",
    "\n",
    "print(\"force data:\",forcedata)\n",
    "print(\"stretch data:\",stretchdata)\n",
    "\n",
    "forcedatalength = len(forcedata)\n",
    "stretchdatalength = len(stretchdata)\n",
    "# length counts how many 'data points' in the list\n",
    "print(\"number of data points (x):\", forcedatalength)\n",
    "print(\"number of data points (y):\", stretchdatalength)"
   ]
  },
  {
   "cell_type": "markdown",
   "metadata": {},
   "source": [
    "### Data Plot\n",
    "\n",
    "If you are unsure what is happening here refer to earlier labs where it has been described in more detail. \n",
    "\n"
   ]
  },
  {
   "cell_type": "code",
   "execution_count": 5,
   "metadata": {},
   "outputs": [
    {
     "data": {
      "image/png": "[encoded data removed]",
      "text/plain": [
       "<Figure size 720x648 with 1 Axes>"
      ]
     },
     "metadata": {
      "needs_background": "light"
     },
     "output_type": "display_data"
    }
   ],
   "source": [
    "fig1, ax1 = plt.subplots()\n",
    "ax1.scatter(stretchdata, forcedata)\n",
    "\n",
    "\n",
    "# a way to set labels\n",
    "plt.xlabel('stretch of bungee (m)', fontsize = 10)\n",
    "plt.ylabel('Force produced by bungee (N)', fontsize = 10)\n",
    "plt.title('2 m Bungee Cord', fontsize = 20)\n",
    "\n",
    "ax1.grid()\n",
    "fig1.set_size_inches(10, 9)\n",
    "#fig.savefig(\"myplot.png\")\n",
    "plt.show()"
   ]
  },
  {
   "cell_type": "markdown",
   "metadata": {},
   "source": [
    "### Curve Fitting\n",
    "\n",
    "Now that we know how to curve fit lets use that skill to find the function that matches the data. I include the reminders from our previous lab.\n",
    "\n",
    "```degree``` is the order of the polynomial as in degree = 2 => quadratic polynomial with 3 coefficients.\n",
    "\n",
    "[polynomial.polynomial.polyfit](https://docs.scipy.org/doc/numpy/reference/generated/numpy.polynomial.polynomial.polyfit.html)\n",
    "\n",
    "Here's an interesting thing to notice about this data...it looks much like a parabola laid on it's side. When we do a polynomial fit to the data we're using functions like $x$ , $x^2$, and $x^3$ etc. All of the functions curl upwards and don't match our function well. However, if we reverse the x and y axes in our data it looks much more reasonable to do a polynomial fit. To help visualize this I plotted our data in this way below."
   ]
  },
  {
   "cell_type": "code",
   "execution_count": 6,
   "metadata": {},
   "outputs": [
    {
     "data": {
      "image/png": "[encoded data removed]",
      "text/plain": [
       "<Figure size 720x648 with 1 Axes>"
      ]
     },
     "metadata": {
      "needs_background": "light"
     },
     "output_type": "display_data"
    }
   ],
   "source": [
    "\n",
    "fig2, ax2 = plt.subplots()\n",
    "ax2.scatter(forcedata, stretchdata)\n",
    "\n",
    "# a way to set labels\n",
    "plt.xlabel('stretch of bungee (m)', fontsize = 10)\n",
    "plt.ylabel('Force produced by bungee (N)', fontsize = 10)\n",
    "plt.title('2 m Bungee Cord', fontsize = 20)\n",
    "\n",
    "ax2.grid()\n",
    "fig2.set_size_inches(10, 9)\n",
    "#fig.savefig(\"myplot.png\")\n",
    "plt.show()"
   ]
  },
  {
   "cell_type": "code",
   "execution_count": 10,
   "metadata": {},
   "outputs": [
    {
     "name": "stdout",
     "output_type": "stream",
     "text": [
      "Coefficients of polynomial fit: [-0.0084568   0.03467479  0.00120597]\n"
     ]
    }
   ],
   "source": [
    "# be sure that the order of the polynomial fit matches the model calculation\n",
    "# in the next code cell.\n",
    "degree = 2\n",
    "coefs = ply.polyfit(forcedata, stretchdata,degree)\n",
    "print(\"Coefficients of polynomial fit:\", coefs)"
   ]
  },
  {
   "cell_type": "markdown",
   "metadata": {},
   "source": [
    "### Add the physics model...the curve fit and the bungee\n",
    "\n",
    "In this case all we want to do is plot the model against the data and be sure that it feels like a good fit. The terms for cubic and quartic polynomials are in the expression but commented out. It is worth your time to explore what order polynomial gives you the most reasonable fit. You can adjust that in the cell above and below in the appropriate places.\n",
    "\n",
    "**A Coding Note**\n",
    "\n",
    "The calculation of the model values can get pretty long as a mathematical formula. What is illustrated below is one method to 'fold' or 'wrap' the code line so that it is easier to read and understand. To make this method work I put the entire calculation inside a set of parentheses so that the python elves keep looking for the other end of the parentheses and find it on a later line.\n"
   ]
  },
  {
   "cell_type": "code",
   "execution_count": 11,
   "metadata": {},
   "outputs": [],
   "source": [
    "# generate x values for model of data\n",
    "maxforce = 45.\n",
    "numpoints = 20\n",
    "modelforce = np.linspace(0.,maxforce,numpoints)\n",
    "\n",
    "# create a model height list that matches the model time\n",
    "modelstretch = np.full_like(modelforce,0)\n",
    "\n",
    "\n",
    "# calculate the heights predicted from the model\n",
    "# uncomment the appropriate terms if using \n",
    "# higher order polynomials!! Check location of closing\n",
    "# parentheses!!\n",
    "modelstretch = (coefs[0] + coefs[1]*modelforce\n",
    "                    + coefs[2]*modelforce**2) \n",
    "                    #+ coefs[3]*modelforce**3) \n",
    "                    #+ coefs[4]*modelforce**4)\n",
    "\n",
    "# print(\"testing the output of the loop;\", modelheight)"
   ]
  },
  {
   "cell_type": "markdown",
   "metadata": {},
   "source": [
    "### Plot Data with Model \n",
    "\n",
    "Just like we've done previously with different labels. Once I have my model data poitns it doesn't matter which way I plot them so I did so that the model and the data are consistent with out bungee characterization lab."
   ]
  },
  {
   "cell_type": "code",
   "execution_count": 13,
   "metadata": {},
   "outputs": [
    {
     "data": {
      "image/png": "[encoded data removed]",
      "text/plain": [
       "<Figure size 720x648 with 1 Axes>"
      ]
     },
     "metadata": {
      "needs_background": "light"
     },
     "output_type": "display_data"
    }
   ],
   "source": [
    "fig3, ax3 = plt.subplots()\n",
    "ax3.scatter(stretchdata, forcedata,\n",
    "            marker = 'x', color = 'green',\n",
    "            label = \"data\")\n",
    "ax3.plot(modelstretch, modelforce,\n",
    "         color = 'blue', linestyle = ':',\n",
    "         linewidth = 3., label = \"model\")\n",
    "\n",
    "\n",
    "maxbungee_stretch = 1.87\n",
    "ax3.vlines(maxbungee_stretch, 0, 40,\n",
    "         color = 'magenta', linestyle = '-',\n",
    "         linewidth = 2., label = \"maximum stretch of bungee\")\n",
    "\n",
    "# a way to set labels\n",
    "plt.xlabel('stretch of bungee (m)', fontsize = 10)\n",
    "plt.ylabel('Force produced by bungee (N)', fontsize = 10)\n",
    "plt.title('2 m Bungee Cord', fontsize = 20)\n",
    "\n",
    "fig3.set_size_inches(10, 9)\n",
    "ax3.grid()\n",
    "\n",
    "plt.legend(loc= 2)\n",
    "plt.show()"
   ]
  },
  {
   "cell_type": "markdown",
   "metadata": {},
   "source": [
    "### Integration (New Skill!)\n",
    "\n",
    "Not surprisingly there are numerical integration tools built into python and in particular into the scientific computing library called scipy. The tool we will use is called quad and is one of a range of integration tools available. I am completely unable to describe what all the different tools do at this point (its on my reading list now) but quad is apparently a standard choice. I give you both references below.\n",
    "\n",
    "[scipy.integrate.quad](https://docs.scipy.org/doc/scipy/reference/generated/scipy.integrate.quad.html#scipy.integrate.quad)\n",
    "\n",
    "[scipy.integrate](https://docs.scipy.org/doc/scipy/reference/tutorial/integrate.html)\n",
    "\n",
    "I took and reworked the example given on these pages for our purposes."
   ]
  },
  {
   "cell_type": "markdown",
   "metadata": {},
   "source": [
    "### Commentary on code\n",
    "\n",
    "The code below follows the structure of the ```scipy.integrate.quad example``` cited above. Conceptually I defined a python function that gives me back the 'y' value when I feed it the degree of the polynomial and the coefficients from my previous fit. Functions are another very useful feature of all coding environments and I don't propose to go into any depth here. Suffice it to say that if I 'call' the function and give it the information it wants it will give me back the y value associated with a given x value. It is important to remember that in this case I have reversed the independent and dependent variables so what I actually have is a function that describes the stretch as a function of the force!\n",
    "\n",
    "```\n",
    "def polyint(x, coefs, degree):\n",
    "    dependent_var = 0\n",
    "    for i in range (0,degree+1):\n",
    "        dependent_var = dependent_var + coefs[i] * x**i\n",
    "    return dependent_var\n",
    "\n",
    "\n",
    "definite_integral = quad(polyint, 0., 45, args = (coefs, degree))\n",
    "\n",
    "print(\"The definite integral is %.3f with estimated error %.6f:\" % (definite_integral))\n",
    "```\n",
    "\n",
    "The cell below finds the area below the stretch vrs force curve in the normal sense of the integral. Take a look at the 'reversed' plot up above to see that the values make sense. If you picture the area under the curve from 0 to 10 N you would expect it to be a bit less than 1.5 -- think about triangles -- and that is what the integration below delivers."
   ]
  },
  {
   "cell_type": "code",
   "execution_count": 16,
   "metadata": {},
   "outputs": [
    {
     "name": "stdout",
     "output_type": "stream",
     "text": [
      "The definite integral is 3.090 with estimated error 0.000000:\n"
     ]
    }
   ],
   "source": [
    "# define a function which is the integrand of our integral\n",
    "# In this case I will try to set it up to handle a generalized polynomial\n",
    "\n",
    "def polyint(x, coefs, degree):\n",
    "    dependent_var = 0\n",
    "    for i in range (0,degree+1):\n",
    "        dependent_var = dependent_var + coefs[i] * x**i\n",
    "    return dependent_var\n",
    "\n",
    "test_limit = 12.\n",
    "\n",
    "definite_integral = quad(polyint, 0., test_limit, args = (coefs, degree))\n",
    "\n",
    "\n",
    "print(\"The definite integral is %.3f with estimated error %.6f:\" % (definite_integral))\n"
   ]
  },
  {
   "cell_type": "markdown",
   "metadata": {},
   "source": [
    "### How far does Bungee stretch?\n",
    "\n",
    "Here is the underlying data:\n",
    "\n",
    "1. The unstretched length of the bungee is 2.45 m between the knots (Lo)\n",
    "1. The length of the clips and the bag combined is .33 m (BC)\n",
    "1. The knotted parts of the bungee are 1 cm long each (Kn)\n",
    "\n",
    "The ultimate stretch of the bungee when it gets to the floor is...\n",
    "\n",
    "$$ \\Delta x = H - ( L_0 + BC + Kn) $$\n",
    "\n"
   ]
  },
  {
   "cell_type": "code",
   "execution_count": 47,
   "metadata": {},
   "outputs": [
    {
     "name": "stdout",
     "output_type": "stream",
     "text": [
      "The maximum stretch of the bungee will be 3.220 m \n"
     ]
    }
   ],
   "source": [
    "relaxed_length = 2.45\n",
    "bag_clips = 0.33\n",
    "knots = 0.02\n",
    "\n",
    "desired_stretch = drop_height - (relaxed_length + bag_clips + knots)\n",
    "\n",
    "print(\"The maximum stretch of the bungee will be %.3f m \" % (desired_stretch))"
   ]
  },
  {
   "cell_type": "markdown",
   "metadata": {},
   "source": [
    "### What are the limits of our integration?\n",
    "\n",
    "What we know from an analysis of our setting is the ultimate stretch of our bungee when it (hopefully) brings the mass to rest just above the floor. The energy stored in the bungee cord is the area under the force vrs stretch curve up to that length. If you think about it that is the  area to the left of the stretch vrs force curve. \n",
    "\n",
    "Because of the reversed axes I need to know what force will deliver the stretch that I know I need. I can use the function I just defined to do this.\n",
    "\n",
    "When I give the function ```polyint``` an force value along with the degree of the fit and the coefficients it will tell me the stretch that it creates. Keep trying different trial forces until you find the force that gives you the stretch you need."
   ]
  },
  {
   "cell_type": "code",
   "execution_count": 53,
   "metadata": {},
   "outputs": [
    {
     "name": "stdout",
     "output_type": "stream",
     "text": [
      "We expect the bungee to stretch 3.220 m when it reaches the floor\n",
      "The stretch is 3.217 m for a force of 39.300 N:\n"
     ]
    }
   ],
   "source": [
    "# Adjust this trial force until it yields the desired stretch\n",
    "trial_force = 39.3\n",
    "\n",
    "max_stretch = polyint(trial_force, coefs, degree)\n",
    "\n",
    "# Save the force in case it's the right one.\n",
    "max_force = trial_force\n",
    "\n",
    "print(\"We expect the bungee to stretch %.3f m when it reaches the floor\" % desired_stretch)\n",
    "print(\"The stretch is %.3f m for a force of %.3f N:\" % (max_stretch, trial_force))"
   ]
  },
  {
   "cell_type": "markdown",
   "metadata": {},
   "source": [
    "### Figuring out the area\n",
    "\n",
    "To get the desired area we can take the area under the curve away from the area of the rectangle bounded by the red lines below."
   ]
  },
  {
   "cell_type": "code",
   "execution_count": 17,
   "metadata": {},
   "outputs": [
    {
     "ename": "NameError",
     "evalue": "name 'max_force' is not defined",
     "output_type": "error",
     "traceback": [
      "\u001b[0;31m---------------------------------------------------------------------------\u001b[0m",
      "\u001b[0;31mNameError\u001b[0m                                 Traceback (most recent call last)",
      "\u001b[0;32m<ipython-input-17-6fd8fdaa75be>\u001b[0m in \u001b[0;36m<module>\u001b[0;34m\u001b[0m\n\u001b[1;32m     10\u001b[0m \u001b[0;34m\u001b[0m\u001b[0m\n\u001b[1;32m     11\u001b[0m \u001b[0;31m# the rectangle\u001b[0m\u001b[0;34m\u001b[0m\u001b[0;34m\u001b[0m\u001b[0;34m\u001b[0m\u001b[0m\n\u001b[0;32m---> 12\u001b[0;31m \u001b[0mmaxbungee_force\u001b[0m \u001b[0;34m=\u001b[0m \u001b[0mmax_force\u001b[0m\u001b[0;34m\u001b[0m\u001b[0;34m\u001b[0m\u001b[0m\n\u001b[0m\u001b[1;32m     13\u001b[0m \u001b[0mmaxbungee_stretch\u001b[0m \u001b[0;34m=\u001b[0m \u001b[0mdesired_stretch\u001b[0m\u001b[0;34m\u001b[0m\u001b[0;34m\u001b[0m\u001b[0m\n\u001b[1;32m     14\u001b[0m \u001b[0;34m\u001b[0m\u001b[0m\n",
      "\u001b[0;31mNameError\u001b[0m: name 'max_force' is not defined"
     ]
    },
    {
     "data": {
      "image/png": "[encoded data removed]",
      "text/plain": [
       "<Figure size 432x288 with 1 Axes>"
      ]
     },
     "metadata": {
      "needs_background": "light"
     },
     "output_type": "display_data"
    }
   ],
   "source": [
    "fig4, ax4 = plt.subplots()\n",
    "\n",
    "# the data\n",
    "ax4.scatter(stretchdata,forcedata)\n",
    "\n",
    "# the model\n",
    "ax4.plot(modelforce, modelstretch,\n",
    "         color = 'blue', linestyle = ':',\n",
    "         linewidth = 3., label = \"model\")\n",
    "\n",
    "# the rectangle\n",
    "maxbungee_force = max_force\n",
    "maxbungee_stretch = desired_stretch\n",
    "\n",
    "ax4.vlines(maxbungee_force, 0, 4,\n",
    "         color = 'red', linestyle = '-',\n",
    "         linewidth = 3., label = \"max force\")\n",
    "ax4.hlines(maxbungee_stretch, 0, 45,\n",
    "         color = 'red', linestyle = '-',\n",
    "         linewidth = 3., label = \"max stretch\")\n",
    "\n",
    "\n",
    "ax4.grid()\n",
    "fig4.set_size_inches(10, 9)\n",
    "#fig.savefig(\"myplot.png\")\n",
    "plt.show()"
   ]
  },
  {
   "cell_type": "markdown",
   "metadata": {},
   "source": [
    "### Find the energy stored by the bungee\n",
    "\n",
    "This is the area of the rectangle above - the area under the curve!"
   ]
  },
  {
   "cell_type": "code",
   "execution_count": 55,
   "metadata": {},
   "outputs": [
    {
     "name": "stdout",
     "output_type": "stream",
     "text": [
      "The area under the curve is 50.845 with estimated error 0.000000:\n",
      "The energy absorbed by the bungee cord is 75.7008 Joules\n"
     ]
    }
   ],
   "source": [
    "upper_limit = maxbungee_force\n",
    "\n",
    "area_under = quad(polyint, 0., upper_limit, args = (coefs, degree))\n",
    "\n",
    "energy_absorbed = maxbungee_force*maxbungee_stretch - area_under[0]\n",
    "\n",
    "print(\"The area under the curve is %.3f with estimated error %.6f:\" % (area_under))\n",
    "print(\"The energy absorbed by the bungee cord is %.4f Joules\" % energy_absorbed)"
   ]
  },
  {
   "cell_type": "markdown",
   "metadata": {},
   "source": [
    "### Mass that can be dropped!\n",
    "\n",
    "Check to make sure the formula matches your energy bar chart analysis!\n",
    "\n",
    "It was discussed that the mass of the bag and the clips should be deducted from the overall mass since they also fall from the railing. The mass of the bag and the 2 clips is 170 g."
   ]
  },
  {
   "cell_type": "code",
   "execution_count": 57,
   "metadata": {},
   "outputs": [
    {
     "name": "stdout",
     "output_type": "stream",
     "text": [
      " The maximum mass that will stop at the level of the floor is 1.2812 kg\n",
      " The mass that should go in the bag is 1.1112 kg\n"
     ]
    }
   ],
   "source": [
    "# set mass of bag and clips\n",
    "mass_BC = .170\n",
    "\n",
    "mass_drop = energy_absorbed/(gravity*drop_height)\n",
    "corrected_mass = mass_drop - mass_BC\n",
    "\n",
    "print(\" The maximum mass that will stop at the level of the floor is %.4f kg\" % mass_drop)\n",
    "print(\" The mass that should go in the bag is %.4f kg\" % corrected_mass)"
   ]
  },
  {
   "cell_type": "markdown",
   "metadata": {},
   "source": [
    "### Analysis\n",
    "\n",
    "Did it work? Was it off a lot or a little? What might have contributed to the error?"
   ]
  },
  {
   "cell_type": "markdown",
   "metadata": {},
   "source": [
    "## Reflection\n",
    "\n",
    "Well.....that was certainly a piece of learning. The fact that I like how it worked out is not a particularly good sign for you the student. We'll see what happens this time around. On the other hand we could go back to counting all the little squares.......eeeeek!"
   ]
  },
  {
   "cell_type": "markdown",
   "metadata": {},
   "source": [
    "### Extensions\n",
    "\n",
    "Extensions are ideas that I didn't have time to explore or develop fully for this lab. These are offered as opportunities for students with more programming experience than is typical for students in the class.\n",
    "\n",
    "\n",
    "### I have no ideas for this one!\n"
   ]
  },
  {
   "cell_type": "code",
   "execution_count": null,
   "metadata": {},
   "outputs": [],
   "source": []
  }
 ],
 "metadata": {
  "kernelspec": {
   "display_name": "Python 3",
   "language": "python",
   "name": "python3"
  },
  "language_info": {
   "codemirror_mode": {
    "name": "ipython",
    "version": 3
   },
   "file_extension": ".py",
   "mimetype": "text/x-python",
   "name": "python",
   "nbconvert_exporter": "python",
   "pygments_lexer": "ipython3",
   "version": "3.8.5"
  }
 },
 "nbformat": 4,
 "nbformat_minor": 4
}
