{
 "cells": [
  {
   "cell_type": "markdown",
   "metadata": {},
   "source": [
    "# JupyterLab Intro\n",
    "## PH 211 Lab\n",
    "### January 10, 2020\n",
    "\n",
    "Then I can write stuff like I usually do. \n",
    "If I just start a new line in the markdown text (look at what I did) the processor doesn't produce a new line when it runs the cell. To get a new line I have to be sure to leave two (2) spaces at the end of the previous line.  \n",
    "Like this.. \n",
    "\n",
    "This is what it looks like if I leave a blank line in the markdown text that I am typing.\n",
    "\n",
    "I also have access to some quick ways to create **bold** type and *italic* type and ***both***. There are lots more possibilities that are in the markdown tutorial links you can access from the [PH211 Software Resources](http://coccweb.cocc.edu/bemerson/PhysicsGlobal/Courses/PH211/PH211Learning/PH211Software/PH211Softpage.html)  page (and now you know how to make a hot link)."
   ]
  },
  {
   "cell_type": "markdown",
   "metadata": {},
   "source": [
    "## Trigonometry stuff....\n",
    "\n",
    "### Basic Identity\n",
    "\n",
    "Each of these equations renders the same (\\\\$ and \\\\$$ around the text accesses LaTeX typesetting) except that the second one is displayed centered in the cell with using alightly larger fonts.\n",
    "\n",
    "$ 1 = sin(\\theta)^2 + cos(\\theta)^2$\n",
    "\n",
    "$$ 1 = sin(\\theta)^2 + cos(\\theta)^2$$\n",
    "\n",
    "Lots of useful tools hiding in this  particular example...  \n",
    "\n",
    "$$\\int{\\frac{-e^{-ikr}}{4\\pi r}dr}= \\int{i\\sqrt{\\frac{k}{32\\pi r}} H^{(2)}_{1/2}(kr)dr}$$\n",
    "\n",
    "Yes, it's pretty ridiculous but it illustrates what is possible and the care that can be required to get it to look good....I'm trying to make sure you have the tools but you still have to work for it a little:)"
   ]
  },
  {
   "cell_type": "code",
   "execution_count": 3,
   "metadata": {},
   "outputs": [
    {
     "data": {
      "text/plain": [
       "7"
      ]
     },
     "execution_count": 3,
     "metadata": {},
     "output_type": "execute_result"
    }
   ],
   "source": [
    "4^3"
   ]
  },
  {
   "cell_type": "code",
   "execution_count": null,
   "metadata": {},
   "outputs": [],
   "source": []
  }
 ],
 "metadata": {
  "kernelspec": {
   "display_name": "Python 3",
   "language": "python",
   "name": "python3"
  },
  "language_info": {
   "codemirror_mode": {
    "name": "ipython",
    "version": 3
   },
   "file_extension": ".py",
   "mimetype": "text/x-python",
   "name": "python",
   "nbconvert_exporter": "python",
   "pygments_lexer": "ipython3",
   "version": "3.7.4"
  }
 },
 "nbformat": 4,
 "nbformat_minor": 4
}
