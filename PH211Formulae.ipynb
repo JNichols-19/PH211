{
 "cells": [
  {
   "cell_type": "markdown",
   "metadata": {},
   "source": [
    "## Physics Formulae\n",
    "\n",
    "The intention here is to use this notebook to generate nicely rendered math that can be used to generate images for use in webpages or other teaching tools. Probably no coding here just markdown/LaTeX."
   ]
  },
  {
   "cell_type": "markdown",
   "metadata": {},
   "source": [
    "### Work/Energy\n",
    "\n",
    ".$$ \\large \\bar{F}_{net} = m\\: \\bar{a} = m\\: \\frac{d\\bar{v}}{dt}$$\n",
    "\n",
    "Multiplying by $d\\bar{x}$ which requires a specific type of vector multiplication called a 'dot' product and rearranging terms....\n",
    "\n",
    ".$$ \\large \\bar{F}_{net}\\:\\cdot d\\bar{x} = m\\: \\frac{d\\bar{v}}{dt}\\cdot d\\bar{x} = m\\: \\frac{d\\bar{x}}{dt}\\cdot d\\bar{v} = m\\: \\bar{v}\\:\\cdot d\\bar{v}$$\n",
    "\n",
    "We can now integrate both sides.....\n",
    "\n",
    ".$$ \\large \\int_{\\bar{x}_0}^{\\bar{x}_f}\\bar{F}_{net}\\:\\cdot d\\bar{x} =  \\int_{\\bar{v}_0}^{\\bar{v}_f} m\\: \\bar{v}\\:\\cdot d\\bar{v}$$\n",
    "\n",
    "where...\n",
    "\n",
    ".$$ \\large \\bar{v}_0 = \\bar{v}|_{\\bar{x}_0}\\: ;\\: \\bar{v}_f = \\bar{v}|_{\\bar{x}_f}$$\n",
    "\n",
    "Pulling the constant m through the integral and completing the RHS....\n",
    "\n",
    ".$$ \\large \\int_{\\bar{x}_0}^{\\bar{x}_f}\\bar{F}_{net}\\:\\cdot d\\bar{x} = m\\: \\int_{\\bar{v}_0}^{\\bar{v}_f} \\bar{v}\\:\\cdot d\\bar{v} = m\\: \\frac{\\bar{v}^2}{2}|_{\\bar{v}_0}^{\\bar{v}_f}$$\n",
    "\n",
    ".$$ \\large \\int_{\\bar{x}_0}^{\\bar{x}_f}\\bar{F}_{net}\\:\\cdot d\\bar{x} = \\frac{1}{2} m \\bar{v}_f^2 - \\frac{1}{2} m \\bar{v}_0^2$$\n",
    "\n",
    "Noting that in MTH 254 you will find that $\\bar{v}^2 = \\bar{v} \\cdot \\bar{v} = v^2$ we now define Kinetic Energy (KE) as....\n",
    "\n",
    ".$$\\large KE = \\frac{1}{2} m\\: v^2 $$\n",
    "\n",
    "Leading to....\n",
    "\n",
    ".$$ \\large \\int_{\\bar{x}_0}^{\\bar{x}_f}\\bar{F}_{net}\\:\\cdot d\\bar{x} = \\Delta KE$$\n",
    "\n"
   ]
  },
  {
   "cell_type": "markdown",
   "metadata": {},
   "source": [
    "### Dot Product\n",
    "\n",
    ".$$ \\large \\bar{A} \\cdot \\bar{B} = A\\: cos(\\theta)\\: B = \\bar{B} \\cdot \\bar{A}$$"
   ]
  },
  {
   "cell_type": "markdown",
   "metadata": {},
   "source": [
    "### Work\n",
    "\n",
    ".$$ \\large W_F = \\bar{F} \\cdot \\Delta\\bar{x} = F cos(\\theta) \\Delta x = \\int_{\\bar{x}_0}^{\\bar{x}_f}\\bar{F}\\:\\cdot d\\bar{x}$$\n"
   ]
  },
  {
   "cell_type": "markdown",
   "metadata": {},
   "source": [
    "### Taking the pieces apart\n",
    "\n",
    "## Work/Energy Theorem:\n",
    "\n",
    ".$$ \\large \\int_{\\bar{x}_0}^{\\bar{x}_f}\\bar{F}_{net}\\:\\cdot d\\bar{x} = \\Delta KE$$\n",
    "\n",
    "Since the net force can be expressed as $\\bar{F}_{net} = \\bar{F}_1 +\\bar{F}_2 + \\bar{F}_3 + ... + \\bar{F}_N$ we can rewrite this as ...\n",
    "\n",
    ".$$ \\large \\int_{\\bar{x}_0}^{\\bar{x}_f}[\\bar{F}_1 +\\bar{F}_2 + \\bar{F}_3 + ... + \\bar{F}_N]\\:\\cdot d\\bar{x} = \\Delta KE$$\n",
    "\n",
    "Because the dot product is distributive we then have.....\n",
    "\n",
    ".$$ \\large \\int_{\\bar{x}_0}^{\\bar{x}_f}\\bar{F}_1\\:\\cdot d\\bar{x} +\\int_{\\bar{x}_0}^{\\bar{x}_f}\\bar{F}_2\\:\\cdot d\\bar{x} ... +\\int_{\\bar{x}_0}^{\\bar{x}_f} \\bar{F}_N\\:\\cdot d\\bar{x} = \\Delta KE$$\n",
    "\n",
    ".... which can be reexpressed as...\n",
    "\n",
    ".$$ \\large W_{F_1} +W_{F_2} + W_{F_3}... + W_{F_N } = \\sum_i W_{F_i} = \\Delta KE$$"
   ]
  },
  {
   "cell_type": "markdown",
   "metadata": {},
   "source": [
    "### Power\n",
    "\n",
    ".$$\\large P_{ave} = \\frac{W_{F}}{\\Delta t}\\: ,\\: P_{inst} = \\frac{dW_F}{dt}$$"
   ]
  },
  {
   "cell_type": "code",
   "execution_count": null,
   "metadata": {},
   "outputs": [],
   "source": []
  }
 ],
 "metadata": {
  "kernelspec": {
   "display_name": "Python 3",
   "language": "python",
   "name": "python3"
  },
  "language_info": {
   "codemirror_mode": {
    "name": "ipython",
    "version": 3
   },
   "file_extension": ".py",
   "mimetype": "text/x-python",
   "name": "python",
   "nbconvert_exporter": "python",
   "pygments_lexer": "ipython3",
   "version": "3.8.5"
  }
 },
 "nbformat": 4,
 "nbformat_minor": 4
}
