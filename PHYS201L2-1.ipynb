{
 "cells": [
  {
   "cell_type": "markdown",
   "metadata": {},
   "source": [
    "# Experiment 2: Airtrack I---Kinematics\n",
    "### Objectives\n",
    "- To learn good lab practice\n",
    "- To learn how to estimate and propagate uncertainties\n",
    "- To learn how position, velocity, and acceleration are related\n",
    "- To learn how to use the Airtrack\n",
    "- To learn how to use PASCO Capstone Data Acquisition and Analysis software\n",
    "\n",
    "### Equipment\n",
    "- One Airtrack, Blower, Cart, and Acoustic Sensor\n",
    "- One wooden reflector\n",
    "- One 2x4 “shim”\n",
    "- One 30 cm plastic ruler\n",
    "- One two-meter stick\n",
    "\n",
    "### Safety\n",
    "- **Do not attempt to push the carts faster than 1 m/s.**\n",
    "- **Be careful placing the carts on the track.**\n",
    "- **Do not damage the track.** Please place paper underneath the carts when they are resting on the track without the air turned on.\n",
    "- **Do not slide the carts on the track without the air turned on.**"
   ]
  },
  {
   "cell_type": "code",
   "execution_count": null,
   "metadata": {},
   "outputs": [],
   "source": []
  }
 ],
 "metadata": {
  "kernelspec": {
   "display_name": "Python 3",
   "language": "python",
   "name": "python3"
  },
  "language_info": {
   "codemirror_mode": {
    "name": "ipython",
    "version": 3
   },
   "file_extension": ".py",
   "mimetype": "text/x-python",
   "name": "python",
   "nbconvert_exporter": "python",
   "pygments_lexer": "ipython3",
   "version": "3.6.8"
  }
 },
 "nbformat": 4,
 "nbformat_minor": 4
}
